{
 "cells": [
  {
   "cell_type": "code",
   "execution_count": 1,
   "id": "830ad2c4",
   "metadata": {},
   "outputs": [
    {
     "name": "stdout",
     "output_type": "stream",
     "text": [
      "Enter number of data points: 5\n",
      "Enter data for x and y: \n",
      "x[0]=3.2\n",
      "y[0]=22.0\n",
      "x[1]=2.7\n",
      "y[1]=17.8\n",
      "x[2]=1.0\n",
      "y[2]=14.2\n",
      "x[3]=4.8\n",
      "y[3]=38.3\n",
      "x[4]=5.6\n",
      "y[4]=51.7\n",
      "Enter interpolation point: 3.0\n",
      "Interpolated value at 3.000 is 20.267.\n"
     ]
    }
   ],
   "source": [
    "# Lagrange Interpolation\n",
    "\n",
    "# Importing NumPy Library\n",
    "import numpy as np\n",
    "\n",
    "# Reading number of unknowns\n",
    "n = int(input('Enter number of data points: '))\n",
    "\n",
    "# Making numpy array of n & n x n size and initializing \n",
    "# to zero for storing x and y value along with differences of y\n",
    "x = np.zeros((n))\n",
    "y = np.zeros((n))\n",
    "\n",
    "\n",
    "# Reading data points\n",
    "print('Enter data for x and y: ')\n",
    "for i in range(n):\n",
    "    x[i] = float(input( 'x['+str(i)+']='))\n",
    "    y[i] = float(input( 'y['+str(i)+']='))\n",
    "\n",
    "\n",
    "# Reading interpolation point\n",
    "xp = float(input('Enter interpolation point: '))\n",
    "\n",
    "# Set interpolated value initially to zero\n",
    "yp = 0\n",
    "\n",
    "# Implementing Lagrange Interpolation\n",
    "for i in range(n):\n",
    "    \n",
    "    p = 1\n",
    "    \n",
    "    for j in range(n):\n",
    "        if i != j:\n",
    "            p = p * (xp - x[j])/(x[i] - x[j])\n",
    "    \n",
    "    yp = yp + p * y[i]    \n",
    "\n",
    "# Displaying output\n",
    "print('Interpolated value at %.3f is %.3f.' % (xp, yp))"
   ]
  },
  {
   "cell_type": "code",
   "execution_count": 3,
   "id": "3b241144",
   "metadata": {},
   "outputs": [
    {
     "name": "stdout",
     "output_type": "stream",
     "text": [
      "Value of f(3) is : 20.211960717301274\n"
     ]
    }
   ],
   "source": [
    "# Python3 program for implementation\n",
    "# of Lagrange's Interpolation\n",
    "\n",
    "# To represent a data point corresponding to x and y = f(x)\n",
    "class Data:\n",
    "\tdef __init__(self, x, y):\n",
    "\t\tself.x = x\n",
    "\t\tself.y = y\n",
    "\n",
    "# function to interpolate the given data points\n",
    "# using Lagrange's formula\n",
    "# xi -> corresponds to the new data point\n",
    "# whose value is to be obtained\n",
    "# n -> represents the number of known data points\n",
    "def interpolate(f: list, xi: int, n: int) -> float:\n",
    "\n",
    "\t# Initialize result\n",
    "\tresult = 0.0\n",
    "\tfor i in range(n):\n",
    "\n",
    "\t\t# Compute individual terms of above formula\n",
    "\t\tterm = f[i].y\n",
    "\t\tfor j in range(n):\n",
    "\t\t\tif j != i:\n",
    "\t\t\t\tterm = term * (xi - f[j].x) / (f[i].x - f[j].x)\n",
    "\n",
    "\t\t# Add current term to result\n",
    "\t\tresult += term\n",
    "\n",
    "\treturn result\n",
    "\n",
    "# Driver Code\n",
    "if __name__ == \"__main__\":\n",
    "\n",
    "\t# creating an array of 4 known data points\n",
    "\tf = [Data(3.2, 22), Data(2.7, 17.8), Data(1, 14.2), Data(4.8, 38.3), Data(5.6, 51.7)]\n",
    "\n",
    "\t# Using the interpolate function to obtain a data point\n",
    "\t# corresponding to x=3\n",
    "\tprint(\"Value of f(3) is :\", interpolate(f, 3, 4))\n",
    "\n",
    "# This code is contributed by\n",
    "# sanjeev2552\n"
   ]
  },
  {
   "cell_type": "code",
   "execution_count": null,
   "id": "da2c8f16",
   "metadata": {},
   "outputs": [],
   "source": []
  }
 ],
 "metadata": {
  "kernelspec": {
   "display_name": "Python 3 (ipykernel)",
   "language": "python",
   "name": "python3"
  },
  "language_info": {
   "codemirror_mode": {
    "name": "ipython",
    "version": 3
   },
   "file_extension": ".py",
   "mimetype": "text/x-python",
   "name": "python",
   "nbconvert_exporter": "python",
   "pygments_lexer": "ipython3",
   "version": "3.10.8"
  }
 },
 "nbformat": 4,
 "nbformat_minor": 5
}
