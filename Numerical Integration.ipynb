{
 "cells": [
  {
   "cell_type": "code",
   "execution_count": 1,
   "id": "5b000e20",
   "metadata": {},
   "outputs": [
    {
     "name": "stdout",
     "output_type": "stream",
     "text": [
      "0.8641012347405463\n",
      "2.9544836594305277\n"
     ]
    }
   ],
   "source": [
    "import numpy\n",
    "\n",
    "def f(x,y):\n",
    "    return numpy.exp(x+y)\n",
    "\n",
    "def IntegrationUsingTrapazoidalRule():\n",
    "    h = k = 0.5 #value of h,k is given in question\n",
    "#     fxy = [[0]*cols]*rows\n",
    "    sumfxy = 0\n",
    "    for x in range(0,2):\n",
    "        for y in range(0,2):\n",
    "#             print(f(x,y))\n",
    "            sumfxy += f(x,y)\n",
    "    I = h * k * sumfxy / 4\n",
    "    return I\n",
    "\n",
    "def IntegrationUsingSimpson1by3Rule():\n",
    "    h = k = 0.5 #value of h,k is given in question\n",
    "    rows,cols = (3,3)\n",
    "    fxy = [[0]*cols]*rows\n",
    "    sumfxy = 0\n",
    "    i,j = (0,0)\n",
    "    for x in numpy.arange(0,1.1,0.5):\n",
    "        for y in numpy.arange(0,1.1,0.5):\n",
    "#             print(\"i-j\",numpy.abs(i-j))\n",
    "            fxy[i][j] = f(x,y)\n",
    "            if(i==1 and j==1):\n",
    "                sumfxy += 16*fxy[i][j]\n",
    "            elif(numpy.abs(i-j) ==1):\n",
    "                sumfxy += 4*fxy[i][j]\n",
    "            else:\n",
    "                sumfxy += fxy[i][j]\n",
    "#             print(i,j, x, y, fxy[i][j])\n",
    "            j+=1\n",
    "        i+=1\n",
    "        j = 0\n",
    "        \n",
    "           \n",
    "    I = h * k * sumfxy / 9\n",
    "    return I\n",
    "\n",
    "print(IntegrationUsingTrapazoidalRule())\n",
    "print(IntegrationUsingSimpson1by3Rule())"
   ]
  },
  {
   "cell_type": "code",
   "execution_count": null,
   "id": "60a6957a",
   "metadata": {},
   "outputs": [],
   "source": []
  }
 ],
 "metadata": {
  "kernelspec": {
   "display_name": "Python 3 (ipykernel)",
   "language": "python",
   "name": "python3"
  },
  "language_info": {
   "codemirror_mode": {
    "name": "ipython",
    "version": 3
   },
   "file_extension": ".py",
   "mimetype": "text/x-python",
   "name": "python",
   "nbconvert_exporter": "python",
   "pygments_lexer": "ipython3",
   "version": "3.10.8"
  }
 },
 "nbformat": 4,
 "nbformat_minor": 5
}
