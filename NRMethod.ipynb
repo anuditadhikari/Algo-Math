{
 "cells": [
  {
   "cell_type": "code",
   "execution_count": null,
   "id": "1f16ee97",
   "metadata": {},
   "outputs": [],
   "source": [
    "# Defining Function\n",
    "def f(x):\n",
    "    return x**3 - 5*x - 9\n",
    "\n",
    "# Defining derivative of function\n",
    "def g(x):\n",
    "    return 3*x**2 - 5\n",
    "\n",
    "# Implementing Newton Raphson Method\n",
    "\n",
    "def newtonRaphson(x0,e,N):\n",
    "    print('\\n\\n*** NEWTON RAPHSON METHOD IMPLEMENTATION ***')\n",
    "    step = 1\n",
    "    flag = 1\n",
    "    condition = True\n",
    "    while condition:\n",
    "        if g(x0) == 0.0:\n",
    "            print('Divide by zero error!')\n",
    "            break\n",
    "        \n",
    "        x1 = x0 - f(x0)/g(x0)\n",
    "        print('Iteration-%d, x1 = %0.6f and f(x1) = %0.6f' % (step, x1, f(x1)))\n",
    "        x0 = x1\n",
    "        step = step + 1\n",
    "        \n",
    "        if step > N:\n",
    "            flag = 0\n",
    "            break\n",
    "        \n",
    "        condition = abs(f(x1)) > e\n",
    "    \n",
    "    if flag==1:\n",
    "        print('\\nRequired root is: %0.8f' % x1)\n",
    "    else:\n",
    "        print('\\nNot Convergent.')\n",
    "\n",
    "\n",
    "# Input Section\n",
    "x0 = input('Enter Guess: ')\n",
    "e = input('Tolerable Error: ')\n",
    "N = input('Maximum Step: ')\n",
    "\n",
    "# Converting x0 and e to float\n",
    "x0 = float(x0)\n",
    "e = float(e)\n",
    "\n",
    "# Converting N to integer\n",
    "N = int(N)\n",
    "\n",
    "\n",
    "#Note: You can combine above three section like this\n",
    "# x0 = float(input('Enter Guess: '))\n",
    "# e = float(input('Tolerable Error: '))\n",
    "# N = int(input('Maximum Step: '))\n",
    "\n",
    "# Starting Newton Raphson Method\n",
    "newtonRaphson(x0,e,N)"
   ]
  },
  {
   "cell_type": "code",
   "execution_count": null,
   "id": "95b05f91",
   "metadata": {},
   "outputs": [],
   "source": []
  }
 ],
 "metadata": {
  "kernelspec": {
   "display_name": "Python 3 (ipykernel)",
   "language": "python",
   "name": "python3"
  },
  "language_info": {
   "codemirror_mode": {
    "name": "ipython",
    "version": 3
   },
   "file_extension": ".py",
   "mimetype": "text/x-python",
   "name": "python",
   "nbconvert_exporter": "python",
   "pygments_lexer": "ipython3",
   "version": "3.10.8"
  }
 },
 "nbformat": 4,
 "nbformat_minor": 5
}
