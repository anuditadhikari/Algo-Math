{
 "cells": [
  {
   "cell_type": "code",
   "execution_count": 4,
   "id": "8e61c3dc",
   "metadata": {},
   "outputs": [
    {
     "name": "stdout",
     "output_type": "stream",
     "text": [
      "(-6)x+(0)y+(48)z+(-42)=0  is the plane equation\n",
      "point w is not coplanar\n"
     ]
    }
   ],
   "source": [
    "x=[0,1,9,1,9]\n",
    "y=[0,1,1,7,7]\n",
    "z=[0,1,2,1,4]\n",
    "a=(y[2]*z[3]-y[3]*z[2])-(y[1]*z[3]-y[3]*z[1])+(y[1]*z[2]-y[2]*z[1])\n",
    "b=(x[1]*(z[3]-z[2]))-(x[2]*(z[3]-z[1]))+(x[3]*(z[2]-z[1]))\n",
    "c=(x[1]*(y[2]-y[3]))-(x[2]*(y[1]-y[3]))+(x[3]*(y[1]-y[2]))\n",
    "d= (-x[1]*(y[2]*z[3]-y[3]*z[2]))+(x[2]*(y[1]*z[3]-y[3]*z[1]))-(x[3]*(y[1]*z[2]-y[2]*z[1]))\n",
    "print(f\"({a})x+({b})y+({c})z+({d})=0  is the plane equation\")\n",
    "test= a* x[4] + b*y[4] + c*z[4]+d\n",
    "if(test==0):\n",
    "    print(\"point w is coplanar\")\n",
    "else:\n",
    "    print(\"point w is not coplanar\")\n"
   ]
  },
  {
   "cell_type": "code",
   "execution_count": null,
   "id": "a0a6e2a7",
   "metadata": {},
   "outputs": [],
   "source": []
  }
 ],
 "metadata": {
  "kernelspec": {
   "display_name": "Python 3 (ipykernel)",
   "language": "python",
   "name": "python3"
  },
  "language_info": {
   "codemirror_mode": {
    "name": "ipython",
    "version": 3
   },
   "file_extension": ".py",
   "mimetype": "text/x-python",
   "name": "python",
   "nbconvert_exporter": "python",
   "pygments_lexer": "ipython3",
   "version": "3.10.8"
  }
 },
 "nbformat": 4,
 "nbformat_minor": 5
}
