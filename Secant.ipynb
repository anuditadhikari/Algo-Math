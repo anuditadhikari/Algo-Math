{
 "cells": [
  {
   "cell_type": "code",
   "execution_count": 1,
   "id": "b6bf4432",
   "metadata": {},
   "outputs": [
    {
     "name": "stdout",
     "output_type": "stream",
     "text": [
      "Enter First Guess: 1\n",
      "Enter Second Guess: 2\n",
      "Tolerable Error: 0.00001\n",
      "Maximum Step: 10\n",
      "\n",
      "\n",
      "*** SECANT METHOD IMPLEMENTATION ***\n",
      "Iteration-1, x2 = 1.571429 and f(x2) = -1.364431\n",
      "Iteration-2, x2 = 1.705411 and f(x2) = -0.247745\n",
      "Iteration-3, x2 = 1.735136 and f(x2) = 0.029255\n",
      "Iteration-4, x2 = 1.731996 and f(x2) = -0.000515\n",
      "Iteration-5, x2 = 1.732051 and f(x2) = -0.000001\n",
      "\n",
      " Required root is: 1.73205070\n"
     ]
    }
   ],
   "source": [
    "# Defining Function\n",
    "def f(x):\n",
    "    return x**3 + x**2 - 3 * x - 3\n",
    "\n",
    "\n",
    "# Implementing Secant Method\n",
    "\n",
    "\n",
    "def secant(x0, x1, e, N):\n",
    "    print(\"\\n\\n*** SECANT METHOD IMPLEMENTATION ***\")\n",
    "    step = 1\n",
    "    condition = True\n",
    "    while condition:\n",
    "        if f(x0) == f(x1):\n",
    "            print(\"Divide by zero error!\")\n",
    "            break\n",
    "\n",
    "        x2 = x0 - (x1 - x0) * f(x0) / (f(x1) - f(x0))\n",
    "        print(\"Iteration-%d, x2 = %0.6f and f(x2) = %0.6f\" % (step, x2, f(x2)))\n",
    "        x0 = x1\n",
    "        x1 = x2\n",
    "        step = step + 1\n",
    "\n",
    "        if step > N:\n",
    "            print(\"Not Convergent!\")\n",
    "            break\n",
    "\n",
    "        condition = abs(f(x2)) > e\n",
    "    print(\"\\n Required root is: %0.8f\" % x2)\n",
    "\n",
    "\n",
    "# Input Section\n",
    "x0 = input(\"Enter First Guess: \")\n",
    "x1 = input(\"Enter Second Guess: \")\n",
    "e = input(\"Tolerable Error: \")\n",
    "N = input(\"Maximum Step: \")\n",
    "\n",
    "# Converting x0 and e to float\n",
    "x0 = float(x0)\n",
    "x1 = float(x1)\n",
    "e = float(e)\n",
    "\n",
    "# Converting N to integer\n",
    "N = int(N)\n",
    "\n",
    "\n",
    "# Note: You can combine above three section like this\n",
    "# x0 = float(input('Enter First Guess: '))\n",
    "# x1 = float(input('Enter Second Guess: '))\n",
    "# e = float(input('Tolerable Error: '))\n",
    "# N = int(input('Maximum Step: '))\n",
    "\n",
    "# Starting Secant Method\n",
    "secant(x0, x1, e, N)\n"
   ]
  }
 ],
 "metadata": {
  "kernelspec": {
   "display_name": "Python 3 (ipykernel)",
   "language": "python",
   "name": "python3"
  },
  "language_info": {
   "codemirror_mode": {
    "name": "ipython",
    "version": 3
   },
   "file_extension": ".py",
   "mimetype": "text/x-python",
   "name": "python",
   "nbconvert_exporter": "python",
   "pygments_lexer": "ipython3",
   "version": "3.10.8"
  }
 },
 "nbformat": 4,
 "nbformat_minor": 5
}
