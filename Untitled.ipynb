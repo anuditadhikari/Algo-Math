{
 "cells": [
  {
   "cell_type": "code",
   "execution_count": 1,
   "id": "aa03c787",
   "metadata": {},
   "outputs": [
    {
     "name": "stdout",
     "output_type": "stream",
     "text": [
      "enter x: 2.828\n",
      "enter y: 2.828\n",
      "Enter the max iteration: 10\n",
      "Enter tolerable error: 0.001\n",
      "h : %f 0.35403394625176826\n",
      "Iteration:2 root x:3.182033946251768 y:2.474820367751061 h:0.35403394625176826 k:-0.353179632248939 f1:0.0006041824631042303 f2:0.2500758877340985\n",
      "Iteration:3 root x:3.162338990570003 y:2.455220348589979 h:-0.0196949556817651 k:-0.019600019161082168 f1:-0.027719068850990958 f2:0.028494851409604394\n",
      "Iteration:4 root x:3.1622776607631002 y:2.4507763341731006 h:-6.132980690295966e-05 k:-0.004444014416878102 f1:-0.006304636381596396 f2:0.006304643904286422\n",
      "root is x:3.1622776607631002 and y:2.4507763341731006\n"
     ]
    }
   ],
   "source": [
    "def f1(x, y):\n",
    "    return (x**2) - (y**2) - 4\n",
    "\n",
    "\n",
    "def f2(x, y):\n",
    "    return (x**2) + (y**2) - 16\n",
    "\n",
    "\n",
    "def j(x, y):\n",
    "    return 8 * x * y\n",
    "\n",
    "\n",
    "x = float(input(\"enter x: \"))\n",
    "y = float(input(\"enter y: \"))\n",
    "n = int(input(\"Enter the max iteration: \"))\n",
    "e = float(input(\"Enter tolerable error: \"))\n",
    "h = (-f1(x, y) * 2 * y - f2(x, y) * 2 * y) / j(x, y)\n",
    "print(\"h : %f\", h)\n",
    "step = 1\n",
    "while abs(h) > e:\n",
    "    if j(x, y) == 0.0:\n",
    "        print(\"Jacobian is 0\")\n",
    "        break\n",
    "    h = (-f1(x, y) * 2 * y - f2(x, y) * 2 * y) / j(x, y)\n",
    "    k = (-f2(x, y) * 2 * y + f1(x, y) * 2 * y) / j(x, y)\n",
    "    x = x + h\n",
    "    y = y + k\n",
    "    step += 1\n",
    "    print(f\"Iteration:{step} root x:{x} y:{y} h:{h} k:{k} f1:{f1(x,y)} f2:{f2(x,y)}\")\n",
    "\n",
    "    if step > n:\n",
    "        print(\"Not convergent\")\n",
    "        break\n",
    "print(f\"root is x:{x} and y:{y}\")"
   ]
  }
 ],
 "metadata": {
  "kernelspec": {
   "display_name": "Python 3 (ipykernel)",
   "language": "python",
   "name": "python3"
  },
  "language_info": {
   "codemirror_mode": {
    "name": "ipython",
    "version": 3
   },
   "file_extension": ".py",
   "mimetype": "text/x-python",
   "name": "python",
   "nbconvert_exporter": "python",
   "pygments_lexer": "ipython3",
   "version": "3.10.8"
  }
 },
 "nbformat": 4,
 "nbformat_minor": 5
}
