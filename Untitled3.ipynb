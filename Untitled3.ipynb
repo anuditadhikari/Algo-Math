{
 "cells": [
  {
   "cell_type": "code",
   "execution_count": 5,
   "id": "617b3352",
   "metadata": {},
   "outputs": [
    {
     "name": "stdout",
     "output_type": "stream",
     "text": [
      "The rate of growth of population in the year 1981 is 1.64.\n"
     ]
    }
   ],
   "source": [
    "# x= [1951, 1961, 1971, 1981, 1991]\n",
    "# y= [19.96, 36.65, 58.81, 77.21, 94.61]\n",
    "# n= len(y)\n",
    "# D[][]=\n",
    "\n",
    "# # calculating the divided difference table\n",
    "# for i in range(n):\n",
    "#     for j in range(i+1,n):\n",
    "#         D[j][i]\n",
    "import numpy as np\n",
    "\n",
    "# Given data points\n",
    "years = np.array([1951, 1961, 1971, 1981, 1991])\n",
    "population = np.array([19.96, 36.69, 58.81, 77.21, 94.61])\n",
    "\n",
    "# Calculate backward differences\n",
    "backward_differences = np.zeros_like(population)\n",
    "backward_differences[0] = population[-1]\n",
    "\n",
    "for i in range(1, len(population)):\n",
    "    backward_differences[i] = population[-(i+1)] - population[-i]\n",
    "\n",
    "# Calculate divided differences\n",
    "divided_differences = np.zeros_like(backward_differences)\n",
    "divided_differences[0] = backward_differences[0]\n",
    "\n",
    "for i in range(1, len(backward_differences)):\n",
    "    divided_differences[i] = backward_differences[i] / (years[-i] - years[-i+1])\n",
    "\n",
    "# Construct interpolation polynomial\n",
    "def interpolation_polynomial(x):\n",
    "    y = divided_differences[0]\n",
    "    term = 1\n",
    "\n",
    "    for i in range(1, len(divided_differences)):\n",
    "        term *= (x - years[-i])\n",
    "        y += term * divided_differences[i]\n",
    "    \n",
    "    return y\n",
    "\n",
    "# Calculate the rate of growth in 1991\n",
    "x = 1981\n",
    "rate_of_growth = interpolation_polynomial(x)\n",
    "\n",
    "print(f\"The rate of growth of population in the year {x} is {rate_of_growth}.\")\n"
   ]
  },
  {
   "cell_type": "code",
   "execution_count": null,
   "id": "c7f6a1b5",
   "metadata": {},
   "outputs": [],
   "source": []
  }
 ],
 "metadata": {
  "kernelspec": {
   "display_name": "Python 3 (ipykernel)",
   "language": "python",
   "name": "python3"
  },
  "language_info": {
   "codemirror_mode": {
    "name": "ipython",
    "version": 3
   },
   "file_extension": ".py",
   "mimetype": "text/x-python",
   "name": "python",
   "nbconvert_exporter": "python",
   "pygments_lexer": "ipython3",
   "version": "3.10.8"
  }
 },
 "nbformat": 4,
 "nbformat_minor": 5
}
