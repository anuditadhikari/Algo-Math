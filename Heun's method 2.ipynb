{
 "cells": [
  {
   "cell_type": "code",
   "execution_count": 1,
   "id": "c7870f4b",
   "metadata": {},
   "outputs": [
    {
     "name": "stdout",
     "output_type": "stream",
     "text": [
      "Enter x:1\n",
      "Enter y:2\n",
      "Enter h:0.5\n",
      "Enter the final value of x:2\n",
      "y= 4.333333333333333 \tx= 1.5\n",
      "y= 7.583333333333333 \tx= 2.0\n"
     ]
    }
   ],
   "source": [
    "def f(x,y):\n",
    "    return 2*y/x\n",
    "\n",
    "# taking initial values of x and y\n",
    "x=float(input(\"Enter x:\"))\n",
    "y=float(input(\"Enter y:\"))\n",
    "\n",
    "# taking step size\n",
    "h=float(input(\"Enter h:\"))\n",
    "\n",
    "# taking value of x for which y is to be calculated\n",
    "xn=float(input(\"Enter the final value of x:\"))\n",
    "\n",
    "# calculating and printing the values using Heun's method\n",
    "while x+h <= xn:\n",
    "    l=(h/2)*(f(x,y)+f(x+h,y+h*f(x,y)))\n",
    "    y=y+l\n",
    "    x=x+h\n",
    "    print(\"y=\",y,\"\\tx=\",x)"
   ]
  },
  {
   "cell_type": "code",
   "execution_count": null,
   "id": "0e451d52",
   "metadata": {},
   "outputs": [],
   "source": []
  }
 ],
 "metadata": {
  "kernelspec": {
   "display_name": "Python 3 (ipykernel)",
   "language": "python",
   "name": "python3"
  },
  "language_info": {
   "codemirror_mode": {
    "name": "ipython",
    "version": 3
   },
   "file_extension": ".py",
   "mimetype": "text/x-python",
   "name": "python",
   "nbconvert_exporter": "python",
   "pygments_lexer": "ipython3",
   "version": "3.10.8"
  }
 },
 "nbformat": 4,
 "nbformat_minor": 5
}
