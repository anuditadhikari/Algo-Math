{
 "cells": [
  {
   "cell_type": "code",
   "execution_count": 1,
   "id": "453991cc",
   "metadata": {},
   "outputs": [
    {
     "name": "stdout",
     "output_type": "stream",
     "text": [
      "Result: 4.646783762432943\n"
     ]
    }
   ],
   "source": [
    "from scipy.integrate import quad\n",
    "import numpy as np\n",
    "\n",
    "def integrand(x, y_prime):\n",
    "    \"\"\"Function representing the integrand √(1+dy/dx).\n",
    "\n",
    "    Args:\n",
    "        x (float): Independent variable.\n",
    "        y_prime (callable): Function representing dy/dx.\n",
    "\n",
    "    Returns:\n",
    "        float: Value of the integrand at x.\n",
    "    \"\"\"\n",
    "    return np.sqrt(1 + y_prime(x)**2)\n",
    "\n",
    "def solve_integral(a0, y_prime, x_range):\n",
    "    \"\"\"Solve the integral ∫a0√(1+dy/dx)dx.\n",
    "\n",
    "    Args:\n",
    "        0 (float): Lower integration limit.\n",
    "        y_prime (callable): Function representing dy/dx.\n",
    "        x_range (tuple): Tuple containing the upper integration limit (x_range[0]) and\n",
    "                         the number of subintervals (x_range[1]).\n",
    "\n",
    "    Returns:\n",
    "        float: Result of the integral computation.\n",
    "    \"\"\"\n",
    "    upper_limit, num_subintervals = x_range\n",
    "    x_values = np.linspace(a0, upper_limit, num_subintervals+1)\n",
    "\n",
    "    integral_value, _ = quad(integrand, a0, upper_limit, args=(y_prime,))\n",
    "    return integral_value\n",
    "\n",
    "# Example usage\n",
    "if __name__ == \"__main__\":\n",
    "    a0 = 0  # Lower integration limit\n",
    "    upper_limit = 2  # Upper integration limit\n",
    "    num_subintervals = 100  # Number of subintervals for numerical integration\n",
    "\n",
    "    # Define the derivative function dy/dx\n",
    "    def y_prime(x):\n",
    "        return 2 * x\n",
    "\n",
    "    result = solve_integral(a0, y_prime, (upper_limit, num_subintervals))\n",
    "    print(\"Result:\", result)\n"
   ]
  },
  {
   "cell_type": "code",
   "execution_count": null,
   "id": "47d81a7d",
   "metadata": {},
   "outputs": [],
   "source": []
  },
  {
   "cell_type": "code",
   "execution_count": null,
   "id": "7e3f561a",
   "metadata": {},
   "outputs": [],
   "source": []
  }
 ],
 "metadata": {
  "kernelspec": {
   "display_name": "Python 3 (ipykernel)",
   "language": "python",
   "name": "python3"
  },
  "language_info": {
   "codemirror_mode": {
    "name": "ipython",
    "version": 3
   },
   "file_extension": ".py",
   "mimetype": "text/x-python",
   "name": "python",
   "nbconvert_exporter": "python",
   "pygments_lexer": "ipython3",
   "version": "3.10.8"
  }
 },
 "nbformat": 4,
 "nbformat_minor": 5
}
