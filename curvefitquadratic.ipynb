{
 "cells": [
  {
   "cell_type": "code",
   "execution_count": null,
   "id": "c167320c",
   "metadata": {},
   "outputs": [],
   "source": []
  },
  {
   "cell_type": "code",
   "execution_count": 5,
   "id": "48155c04",
   "metadata": {},
   "outputs": [
    {
     "name": "stdout",
     "output_type": "stream",
     "text": [
      "x \t y \t x2 \t x3 \t x4 \t xy \t x2y\n",
      "0.05\t 0.956 \t 0.0025000000000000005 \t 0.00012500000000000003 \t 6.250000000000001e-06 \t 0.0478 \t 0.00239\n",
      "0.11\t 0.89 \t 0.0121 \t 0.001331 \t 0.00014641 \t 0.0979 \t 0.010768999999999999\n",
      "0.15\t 0.832 \t 0.0225 \t 0.0033749999999999995 \t 0.00050625 \t 0.1248 \t 0.018719999999999997\n",
      "0.31\t 0.717 \t 0.0961 \t 0.029790999999999998 \t 0.009235209999999999 \t 0.22227 \t 0.0689037\n",
      "0.46\t 0.571 \t 0.2116 \t 0.097336 \t 0.044774560000000005 \t 0.26266 \t 0.12082359999999999\n",
      "0.52\t 0.539 \t 0.27040000000000003 \t 0.140608 \t 0.07311616000000001 \t 0.28028000000000003 \t 0.14574560000000003\n",
      "0.7\t 0.378 \t 0.48999999999999994 \t 0.3429999999999999 \t 0.24009999999999995 \t 0.2646 \t 0.18521999999999997\n",
      "0.74\t 0.31 \t 0.5476 \t 0.405224 \t 0.29986576 \t 0.2294 \t 0.169756\n",
      "0.82\t 0.306 \t 0.6723999999999999 \t 0.5513679999999999 \t 0.4521217599999999 \t 0.25092 \t 0.20575439999999995\n",
      "0.98\t 0.242 \t 0.9603999999999999 \t 0.9411919999999999 \t 0.9223681599999999 \t 0.23715999999999998 \t 0.23241679999999998\n",
      "1.17\t 0.104 \t 1.3688999999999998 \t 1.6016129999999997 \t 1.8738872099999995 \t 0.12167999999999998 \t 0.14236559999999998\n",
      "sum is \n",
      "6.01 \t 5.845 \t 4.6545 \t 4.1149629999999995 \t 3.916127729999999 \t 2.1394699999999998 \t 1.3028647\n",
      "Equation 1:\n",
      "Eq(4.6545*a0 + 4.114963*a1 + 3.91612773*a2, 1.3028647)\n",
      "Equation 2\n",
      "Eq(6.01*a0 + 4.6545*a1 + 4.114963*a2, 2.13947)\n",
      "Equation 3\n",
      "Eq(11*a0 + 6.01*a1 + 4.6545*a2, 5.845)\n",
      "Values of 3 unknown variable are as follows:\n",
      "{a2: 0.265287120693567, a1: -1.07307799631910, a0: 1.00540180496451}\n",
      "R60=  0.316723165153110\n"
     ]
    }
   ],
   "source": [
    "# importing library sympy\n",
    "from sympy import symbols, Eq, solve\n",
    "\n",
    "x= [0.05, 0.11, 0.15, 0.31, 0.46, 0.52, 0.7, 0.74, 0.82, 0.98, 1.17]\n",
    "y= [0.956, 0.89, 0.832, 0.717, 0.571, 0.539, 0.378, 0.310, 0.306, 0.242, 0.104]\n",
    "sx=0.0\n",
    "sy=0.0\n",
    "sx2=0.0\n",
    "sx3=0.0\n",
    "sx4=0.0\n",
    "sxy=0.0\n",
    "sx2y=0.0\n",
    "n= len(x)\n",
    "print(\"x \\t y \\t x2 \\t x3 \\t x4 \\t xy \\t x2y\")\n",
    "\n",
    "for i in range(n):\n",
    "    sx = sx + x[i]\n",
    "    sy = sy + y[i]\n",
    "    sx2 = sx2 + x[i]**2\n",
    "    sx3 = sx3 + x[i]**3\n",
    "    sx4 = sx4 + x[i]**4\n",
    "    sxy = sxy + (x[i] * y[i])\n",
    "    sx2y = sx2y + (x[i]**2 * y[i])\n",
    "    print(f\"{x[i]}\\t {y[i]} \\t {x[i]**2} \\t {x[i]**3} \\t {x[i]**4} \\t {x[i]*y[i]} \\t {x[i]**2*y[i]}\")\n",
    "print(\"sum is \")\n",
    "print(f\"{sx} \\t {sy} \\t {sx2} \\t {sx3} \\t {sx4} \\t {sxy} \\t {sx2y}\")\n",
    "\n",
    "# defining symbols used in equations\n",
    "# or unknown variables\n",
    "a2, a1, a0 = symbols('a2,a1,a0')\n",
    "\n",
    "# defining equations\n",
    "eq1 = Eq((a2*sx4+a1*sx3+a0*sx2), sx2y)\n",
    "print(\"Equation 1:\")\n",
    "print(eq1)\n",
    "eq2 = Eq((a2*sx3+a1*sx2+a0*sx), sxy)\n",
    "print(\"Equation 2\")\n",
    "print(eq2)\n",
    "eq3 = Eq((a2*sx2+a1*sx+a0*n), sy)\n",
    "print(\"Equation 3\")\n",
    "print(eq3)\n",
    "# solving the equation\n",
    "print(\"Values of 3 unknown variable are as follows:\")\n",
    "\n",
    "# sympy.solve returns a dict \n",
    "r= solve((eq1, eq2, eq3), (a2, a1, a0))\n",
    "\n",
    "print(r)\n",
    "#print(type(a),type(b))\n",
    "R08= r[a2] * 0.8**2 + r[a1] * 0.8+ r[a0]\n",
    "print(f\"R60=  {R08}\")\n",
    "    "
   ]
  },
  {
   "cell_type": "code",
   "execution_count": null,
   "id": "718bef41",
   "metadata": {},
   "outputs": [],
   "source": []
  }
 ],
 "metadata": {
  "kernelspec": {
   "display_name": "Python 3 (ipykernel)",
   "language": "python",
   "name": "python3"
  },
  "language_info": {
   "codemirror_mode": {
    "name": "ipython",
    "version": 3
   },
   "file_extension": ".py",
   "mimetype": "text/x-python",
   "name": "python",
   "nbconvert_exporter": "python",
   "pygments_lexer": "ipython3",
   "version": "3.10.8"
  }
 },
 "nbformat": 4,
 "nbformat_minor": 5
}
