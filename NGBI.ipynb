{
 "cells": [
  {
   "cell_type": "code",
   "execution_count": 1,
   "id": "10ed123e",
   "metadata": {},
   "outputs": [
    {
     "name": "stdout",
     "output_type": "stream",
     "text": [
      "46\t\n",
      "66\t20\t\n",
      "81\t15\t-5\t\n",
      "93\t12\t-3\t2\t\n",
      "101\t8\t-4\t-1\t-3\t\n",
      "\n",
      " Value at 1925 is 103.49792\n"
     ]
    }
   ],
   "source": [
    "# Python3 Program to interpolate using\n",
    "# newton backward interpolation\n",
    " \n",
    "# Calculation of u mentioned in formula\n",
    "def u_cal(u, n):\n",
    "    temp = u\n",
    "    for i in range(n):\n",
    "        temp = temp * (u + i)\n",
    "    return temp\n",
    " \n",
    "# Calculating factorial of given n\n",
    "def fact(n):\n",
    "    f = 1\n",
    "    for i in range(2, n + 1):\n",
    "        f *= i\n",
    "    return f\n",
    " \n",
    " \n",
    "# Driver code\n",
    " \n",
    " \n",
    "# number of values given\n",
    "n = 5\n",
    "x = [1891, 1901, 1911, 1921, 1931]\n",
    " \n",
    "# y is used for difference\n",
    "# table and y[0] used for input\n",
    "y = [[0.0 for _ in range(n)] for __ in range(n)]\n",
    "y[0][0] = 46\n",
    "y[1][0] = 66\n",
    "y[2][0] = 81\n",
    "y[3][0] = 93\n",
    "y[4][0] = 101\n",
    " \n",
    "# Calculating the backward difference table\n",
    "for i in range(1, n):\n",
    "    for j in range(n - 1, i - 1, -1):\n",
    "        y[j][i] = y[j][i - 1] - y[j - 1][i - 1]\n",
    " \n",
    " \n",
    "# Displaying the backward difference table\n",
    "for i in range(n):\n",
    "    for j in range(i + 1):\n",
    "        print(y[i][j], end=\"\\t\")\n",
    "    print()\n",
    " \n",
    "# Value to interpolate at\n",
    "value = 1925\n",
    " \n",
    "# Initializing u and sum\n",
    "sum = y[n - 1][0]\n",
    "u = (value - x[n - 1]) / (x[1] - x[0])\n",
    "for i in range(1, n):\n",
    "    sum = sum + (u_cal(u, i) * y[n - 1][i]) / fact(i)\n",
    " \n",
    "print(\"\\n Value at\", value,  \"is\", sum)\n",
    " \n",
    " \n",
    "# This code is contributed by phasing17"
   ]
  },
  {
   "cell_type": "code",
   "execution_count": null,
   "id": "2ff30b43",
   "metadata": {},
   "outputs": [],
   "source": []
  }
 ],
 "metadata": {
  "kernelspec": {
   "display_name": "Python 3 (ipykernel)",
   "language": "python",
   "name": "python3"
  },
  "language_info": {
   "codemirror_mode": {
    "name": "ipython",
    "version": 3
   },
   "file_extension": ".py",
   "mimetype": "text/x-python",
   "name": "python",
   "nbconvert_exporter": "python",
   "pygments_lexer": "ipython3",
   "version": "3.10.8"
  }
 },
 "nbformat": 4,
 "nbformat_minor": 5
}
