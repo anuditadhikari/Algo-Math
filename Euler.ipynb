{
 "cells": [
  {
   "cell_type": "code",
   "execution_count": 1,
   "id": "212dbfa1",
   "metadata": {},
   "outputs": [
    {
     "name": "stdout",
     "output_type": "stream",
     "text": [
      "Enter initial conditions:\n",
      "x0 = 0\n",
      "y0 = 1\n",
      "Enter calculation point: \n",
      "xn = 1\n",
      "Enter number of steps:\n",
      "Number of steps = 10\n",
      "\n",
      "-----------SOLUTION-----------\n",
      "------------------------------\n",
      "x0\ty0\tslope\tyn\n",
      "------------------------------\n",
      "0.0000\t1.0000\t1.0000\t1.1000\n",
      "------------------------------\n",
      "0.1000\t1.1000\t1.2000\t1.2200\n",
      "------------------------------\n",
      "0.2000\t1.2200\t1.4200\t1.3620\n",
      "------------------------------\n",
      "0.3000\t1.3620\t1.6620\t1.5282\n",
      "------------------------------\n",
      "0.4000\t1.5282\t1.9282\t1.7210\n",
      "------------------------------\n",
      "0.5000\t1.7210\t2.2210\t1.9431\n",
      "------------------------------\n",
      "0.6000\t1.9431\t2.5431\t2.1974\n",
      "------------------------------\n",
      "0.7000\t2.1974\t2.8974\t2.4872\n",
      "------------------------------\n",
      "0.8000\t2.4872\t3.2872\t2.8159\n",
      "------------------------------\n",
      "0.9000\t2.8159\t3.7159\t3.1875\n",
      "------------------------------\n",
      "\n",
      "At x=1.0000, y=3.1875\n"
     ]
    }
   ],
   "source": [
    "# Euler method python program\n",
    "\n",
    "# function to be solved\n",
    "def f(x,y):\n",
    "    return x+y\n",
    "\n",
    "# or\n",
    "# f = lambda x: x+y\n",
    "\n",
    "# Euler method\n",
    "def euler(x0,y0,xn,n):\n",
    "    \n",
    "    # Calculating step size\n",
    "    h = (xn-x0)/n\n",
    "    \n",
    "    print('\\n-----------SOLUTION-----------')\n",
    "    print('------------------------------')    \n",
    "    print('x0\\ty0\\tslope\\tyn')\n",
    "    print('------------------------------')\n",
    "    for i in range(n):\n",
    "        slope = f(x0, y0)\n",
    "        yn = y0 + h * slope\n",
    "        print('%.4f\\t%.4f\\t%0.4f\\t%.4f'% (x0,y0,slope,yn) )\n",
    "        print('------------------------------')\n",
    "        y0 = yn\n",
    "        x0 = x0+h\n",
    "    \n",
    "    print('\\nAt x=%.4f, y=%.4f' %(xn,yn))\n",
    "\n",
    "# Inputs\n",
    "print('Enter initial conditions:')\n",
    "x0 = float(input('x0 = '))\n",
    "y0 = float(input('y0 = '))\n",
    "\n",
    "print('Enter calculation point: ')\n",
    "xn = float(input('xn = '))\n",
    "\n",
    "print('Enter number of steps:')\n",
    "step = int(input('Number of steps = '))\n",
    "\n",
    "# Euler method call\n",
    "euler(x0,y0,xn,step)\n"
   ]
  },
  {
   "cell_type": "code",
   "execution_count": null,
   "id": "832636a2",
   "metadata": {},
   "outputs": [],
   "source": []
  }
 ],
 "metadata": {
  "kernelspec": {
   "display_name": "Python 3 (ipykernel)",
   "language": "python",
   "name": "python3"
  },
  "language_info": {
   "codemirror_mode": {
    "name": "ipython",
    "version": 3
   },
   "file_extension": ".py",
   "mimetype": "text/x-python",
   "name": "python",
   "nbconvert_exporter": "python",
   "pygments_lexer": "ipython3",
   "version": "3.10.8"
  }
 },
 "nbformat": 4,
 "nbformat_minor": 5
}
