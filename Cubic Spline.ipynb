{
 "cells": [
  {
   "cell_type": "code",
   "execution_count": 1,
   "id": "3db378f3",
   "metadata": {},
   "outputs": [],
   "source": [
    "import numpy as np\n",
    "x = [0.05,0.11,0.15,0.31,0.46,0.52,0.70,0.74,0.82,0.98,1.17]\n",
    "y = [0.956,0.890,0.832,0.717,0.571,0.539,0.378,0.310,0.306,0.242,0.104]\n",
    "x = np.asarray(x)\n",
    "y = np.asarray(y)\n",
    "N = len(x)"
   ]
  },
  {
   "cell_type": "code",
   "execution_count": 2,
   "id": "01c85d32",
   "metadata": {},
   "outputs": [],
   "source": [
    "def power_array(arr,power):\n",
    "    result = []\n",
    "    for num in arr:\n",
    "        result.append(num ** power)\n",
    "    return np.asarray(result)"
   ]
  },
  {
   "cell_type": "code",
   "execution_count": 3,
   "id": "02714ab7",
   "metadata": {},
   "outputs": [],
   "source": [
    "#Calculating sum\n",
    "sum_x = np.sum(x)\n",
    "sum_y = np.sum(y)\n",
    "\n",
    "#Cacluating square of x and sum\n",
    "x_2 = power_array(x,2)\n",
    "x_2_sum = np.sum(x_2)\n",
    "\n",
    "#Calculating power 3 of x and sum\n",
    "x_3 = power_array(x,3)\n",
    "x_3_sum = np.sum(x_3)\n",
    "\n",
    "#Calculating power 4 of x and sum\n",
    "x_4 = power_array(x,4)\n",
    "x_4_sum = np.sum(x_4)\n",
    "\n",
    "#Calculating yXx and its sum\n",
    "y_x = np.multiply(x,y)\n",
    "y_x_sum = np.sum(y_x)\n",
    "\n",
    "#Calculating yxx**2 and its usm\n",
    "y_x_2 = np.multiply(y,x_2)\n",
    "y_x_2_sum = np.sum(y_x_2)"
   ]
  },
  {
   "cell_type": "code",
   "execution_count": 4,
   "id": "1e2c2f7c",
   "metadata": {},
   "outputs": [
    {
     "data": {
      "text/plain": [
       "5.845"
      ]
     },
     "execution_count": 4,
     "metadata": {},
     "output_type": "execute_result"
    }
   ],
   "source": [
    "sum_y"
   ]
  },
  {
   "cell_type": "code",
   "execution_count": 5,
   "id": "bd1b2cd5",
   "metadata": {},
   "outputs": [],
   "source": [
    "A = np.array([[x_4_sum,x_3_sum,x_2_sum],\n",
    "              [x_3_sum,x_2_sum,sum_x],\n",
    "             [x_2_sum,sum_x,N]])\n",
    "B = np.array([y_x_2_sum,y_x_sum,sum_y])"
   ]
  },
  {
   "cell_type": "code",
   "execution_count": 6,
   "id": "8b25b908",
   "metadata": {},
   "outputs": [],
   "source": [
    "solution = np.linalg.solve(A, B)"
   ]
  },
  {
   "cell_type": "code",
   "execution_count": 7,
   "id": "de57eafb",
   "metadata": {},
   "outputs": [
    {
     "data": {
      "text/plain": [
       "array([ 0.26528712, -1.073078  ,  1.0054018 ])"
      ]
     },
     "execution_count": 7,
     "metadata": {},
     "output_type": "execute_result"
    }
   ],
   "source": [
    "solution"
   ]
  },
  {
   "cell_type": "code",
   "execution_count": null,
   "id": "9072e11a",
   "metadata": {},
   "outputs": [],
   "source": []
  }
 ],
 "metadata": {
  "kernelspec": {
   "display_name": "Python 3 (ipykernel)",
   "language": "python",
   "name": "python3"
  },
  "language_info": {
   "codemirror_mode": {
    "name": "ipython",
    "version": 3
   },
   "file_extension": ".py",
   "mimetype": "text/x-python",
   "name": "python",
   "nbconvert_exporter": "python",
   "pygments_lexer": "ipython3",
   "version": "3.10.8"
  }
 },
 "nbformat": 4,
 "nbformat_minor": 5
}
