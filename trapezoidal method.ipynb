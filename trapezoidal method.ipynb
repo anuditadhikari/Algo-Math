{
 "cells": [
  {
   "cell_type": "code",
   "execution_count": 5,
   "id": "296e8289",
   "metadata": {},
   "outputs": [
    {
     "name": "stdout",
     "output_type": "stream",
     "text": [
      "Value of integral is  1.4741\n"
     ]
    }
   ],
   "source": [
    "# Python3 code to implement Trapezoidal rule\n",
    "\n",
    "# A sample function whose definite\n",
    "# integral's approximate value is\n",
    "# computed using Trapezoidal rule\n",
    "def y( x ):\n",
    "\t\n",
    "\t# Declaring the function\n",
    "\t# f(x) = 1/(1+x*x)\n",
    "\treturn (1 / (1 + x * x))\n",
    "\t\n",
    "# Function to evaluate the value of integral\n",
    "def trapezoidal (a, b, n):\n",
    "\t\n",
    "\t# Grid spacing\n",
    "\th = (b - a) / n\n",
    "\t\n",
    "\t# Computing sum of first and last terms\n",
    "\t# in above formula\n",
    "\ts = (y(a) + y(b))\n",
    "\n",
    "\t# Adding middle terms in above formula\n",
    "\ti = 1\n",
    "\twhile i < n:\n",
    "\t\ts += 2 * y(a + i * h)\n",
    "\t\ti += 1\n",
    "\t\t\n",
    "\t# h/2 indicates (b-a)/2n.\n",
    "\t# Multiplying h/2 with s.\n",
    "\treturn ((h / 2) * s)\n",
    "\n",
    "# Driver code to test above function\n",
    "# Range of definite integral\n",
    "x0 = 0\n",
    "xn = 10\n",
    "\n",
    "# Number of grids. Higher value means\n",
    "# more accuracy\n",
    "n = 11\n",
    "print (\"Value of integral is \",\n",
    "\t\"%.4f\"%trapezoidal(x0, xn, n))\n",
    "\n",
    "\n",
    "# This code is contributed by \"Sharad_Bhardwaj\".\n"
   ]
  },
  {
   "cell_type": "code",
   "execution_count": null,
   "id": "fdc1901b",
   "metadata": {},
   "outputs": [],
   "source": []
  }
 ],
 "metadata": {
  "kernelspec": {
   "display_name": "Python 3 (ipykernel)",
   "language": "python",
   "name": "python3"
  },
  "language_info": {
   "codemirror_mode": {
    "name": "ipython",
    "version": 3
   },
   "file_extension": ".py",
   "mimetype": "text/x-python",
   "name": "python",
   "nbconvert_exporter": "python",
   "pygments_lexer": "ipython3",
   "version": "3.10.8"
  }
 },
 "nbformat": 4,
 "nbformat_minor": 5
}
