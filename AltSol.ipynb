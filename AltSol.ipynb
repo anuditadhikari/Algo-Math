{
 "cells": [
  {
   "cell_type": "code",
   "execution_count": 1,
   "id": "71152799",
   "metadata": {},
   "outputs": [
    {
     "name": "stdout",
     "output_type": "stream",
     "text": [
      "enter x0\n",
      "2.828\n",
      "enter y0\n",
      "2.828\n",
      "enter the iteration value\n",
      "10\n",
      "enter the tolerable error\n",
      "0.001\n",
      "0.35403394625176826 -0.353179632248939\n",
      "13.945922515971278 -8.317671251244919\n",
      "-6.614433523855907 3.7981577496423307\n",
      "2.5512941297075558 -1.109222265973756\n",
      "0.6841426519724545 -2.1499865766221893\n",
      "6.966345983743664 -0.32036426071753854\n",
      "-2.7654366044360423 -9.204158302874092\n",
      "-0.4253144662712248 4.27613951618944\n",
      "-11.543350136741807 -1.4365023773668426\n",
      "5.338525251309972 -1.3701546832923015\n",
      "New approximation are 5.3385 and -1.3702\n"
     ]
    }
   ],
   "source": [
    "# Multi-vairable Newton's Raphson Method\n",
    "\n",
    "\n",
    "\n",
    "from  sympy import *\n",
    "x,y = symbols('x y')\n",
    "f  = x**2 - y**2-4 \n",
    "g = x**2+ y**2 -16\n",
    "fxy = lambdify([x,y], f)\n",
    "gxy = lambdify([x,y], g)\n",
    "dfx = diff(f,x)\n",
    "dfy = diff(f,y)\n",
    "dgx = diff(g,x)\n",
    "dgy = diff(g,y)\n",
    "\n",
    "\n",
    "def newtons_init():\n",
    "  x0 = float(eval(input(\"enter x0\\n\")))\n",
    "  y0 = float(eval(input(\"enter y0\\n\")))\n",
    "  n = int(input(\"enter the iteration value\\n\"))\n",
    "  err = float(eval(input(\"enter the tolerable error\\n\")))\n",
    "  return x0,y0,n,err\n",
    "\n",
    "def jacobian_res(h, k):\n",
    "  m = lambdify([x,y], dfx*dgy)\n",
    "  n = lambdify([x,y], dfy*dgx)\n",
    "  return  m(h,k)-n(h,k)\n",
    "\n",
    "def cramer_res(h, k, val='h'):\n",
    "  if val=='h':\n",
    "    m = lambdify([x,y], f*dgy)\n",
    "    n = lambdify([x,y], g*dfy)\n",
    "  else:\n",
    "    m = lambdify([x,y], dfx*g)\n",
    "    n = lambdify([x,y], f*dgx)\n",
    "  return -m(h,k)+n(h,k)\n",
    "\n",
    "def newtons_method():\n",
    "  x0, y0, n, err = newtons_init()\n",
    "  for i in range(n):\n",
    "    Jfg = jacobian_res(x0,y0)\n",
    "    if Jfg == 0 : raise(\"The jacobian can't be zero\")\n",
    "    h = cramer_res(x0, y0)/Jfg\n",
    "    k = cramer_res(x0, y0, 'k')/Jfg\n",
    "    if abs(h-x0)<err:break\n",
    "    x0, y0 = h, k\n",
    "    print(x0,y0)\n",
    "  print(f\"New approximation are {x0:0.04f} and {y0:0.04f}\")\n",
    "    \n",
    "\n",
    "newtons_method()"
   ]
  }
 ],
 "metadata": {
  "kernelspec": {
   "display_name": "Python 3 (ipykernel)",
   "language": "python",
   "name": "python3"
  },
  "language_info": {
   "codemirror_mode": {
    "name": "ipython",
    "version": 3
   },
   "file_extension": ".py",
   "mimetype": "text/x-python",
   "name": "python",
   "nbconvert_exporter": "python",
   "pygments_lexer": "ipython3",
   "version": "3.10.8"
  }
 },
 "nbformat": 4,
 "nbformat_minor": 5
}
