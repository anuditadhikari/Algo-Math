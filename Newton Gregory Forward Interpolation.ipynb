{
 "cells": [
  {
   "cell_type": "code",
   "execution_count": 1,
   "id": "6253b25e",
   "metadata": {},
   "outputs": [
    {
     "name": "stdout",
     "output_type": "stream",
     "text": [
      "[[18.0, -3.0, -9.0], [-7.0, -3.0], [1.0]]\n",
      "[2.5, 1.25, -0.625, 0.9375]\n",
      "18.0 2.5 24.0\n",
      "-7.0 1.25 15.25\n",
      "1.0 -0.625 14.625\n",
      "14.625\n"
     ]
    }
   ],
   "source": [
    "#calculates the delta y value for given level\n",
    "def delta_ys(xs,ys,lvl):\n",
    "    ret_delta_vals = []\n",
    "    n = len(ys)\n",
    "    n2 = len(xs)\n",
    "    if n > n2 :\n",
    "        n = n2\n",
    "        \n",
    "    for i in range(n-1):\n",
    "        #Delta y0 = y1 - y0\n",
    "        cur_delta_y_val = (ys[i+1] - ys[i])/(xs[i+1+lvl] - xs[i])\n",
    "        ret_delta_vals.append(cur_delta_y_val)\n",
    "        \n",
    "    return ret_delta_vals\n",
    "\n",
    "#uses above function to calculate delta values of y for all level, dy, d^2y, d^3y ...\n",
    "def determine_delta_ys(xs,ys):\n",
    "    all_lvl_delta_ys = []\n",
    "    n = len(ys)\n",
    "    n2 = len(xs)\n",
    "    if n > n2 :\n",
    "        n = n2\n",
    "    \n",
    "    cl_deltas = ys\n",
    "    lvl = 0\n",
    "    for i in range(n):\n",
    "        cl_deltas = delta_ys(xs,ys,lvl)\n",
    "        ys = cl_deltas\n",
    "        lvl+=1\n",
    "        if len(cl_deltas) > 0:\n",
    "            all_lvl_delta_ys.append(cl_deltas)\n",
    "        \n",
    "    return all_lvl_delta_ys\n",
    "\n",
    "#determines (x-x0), (x-x0)*(x-x1), (x-x0)*(x-x1)*(x-x2), ....\n",
    "def determine_all_lvl_difference_products(x,xs):\n",
    "    all_lvl_difference_products = []\n",
    "    cur_difference_product = 1\n",
    "    for i in range(len(xs)):\n",
    "        cur_difference_product = cur_difference_product * (x - xs[i])\n",
    "        all_lvl_difference_products.append(cur_difference_product)\n",
    "        \n",
    "    return all_lvl_difference_products\n",
    "\n",
    "def newton_interpolation_func(x,xs, ys):\n",
    "    ret_value_delta_y0s = []\n",
    "    \n",
    "    all_lvl_delta_ys = determine_delta_ys(xs,ys)\n",
    "    print(all_lvl_delta_ys)\n",
    "    \n",
    "    all_lvl_difference_products = determine_all_lvl_difference_products(x,xs)\n",
    "    print(all_lvl_difference_products)\n",
    "    \n",
    "    y = fx = ys[0] \n",
    "    for i in range(len(all_lvl_delta_ys)):\n",
    "        fx += all_lvl_delta_ys[i][0] * all_lvl_difference_products[i]\n",
    "        print(all_lvl_delta_ys[i][0],all_lvl_difference_products[i],fx)\n",
    "    y = fx   \n",
    "    print(y)\n",
    "\n",
    "newton_interpolation_func(1.5,[-1,1,2,3],[-21,15,12,3])"
   ]
  },
  {
   "cell_type": "code",
   "execution_count": null,
   "id": "4706ca95",
   "metadata": {},
   "outputs": [],
   "source": []
  }
 ],
 "metadata": {
  "kernelspec": {
   "display_name": "Python 3 (ipykernel)",
   "language": "python",
   "name": "python3"
  },
  "language_info": {
   "codemirror_mode": {
    "name": "ipython",
    "version": 3
   },
   "file_extension": ".py",
   "mimetype": "text/x-python",
   "name": "python",
   "nbconvert_exporter": "python",
   "pygments_lexer": "ipython3",
   "version": "3.10.8"
  }
 },
 "nbformat": 4,
 "nbformat_minor": 5
}
