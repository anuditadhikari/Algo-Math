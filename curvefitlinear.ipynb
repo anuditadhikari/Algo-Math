{
 "cells": [
  {
   "cell_type": "code",
   "execution_count": 1,
   "id": "48155c04",
   "metadata": {},
   "outputs": [
    {
     "name": "stdout",
     "output_type": "stream",
     "text": [
      "Equation 1:\n",
      "Eq(18607.27*a + 273.1*b, 254932.5)\n",
      "Equation 2\n",
      "Eq(273.1*a + 5*b, 4438.0)\n",
      "Values of 2 unknown variable are as follows:\n",
      "{a: 3.39487252299658, b: 702.172062793927}\n",
      "R60=  905.864414173722\n"
     ]
    }
   ],
   "source": [
    "# importing library sympy\n",
    "from sympy import symbols, Eq, solve\n",
    "\n",
    "x= [20.5, 32.7, 51, 73.2, 95.7]\n",
    "y= [765, 826, 873, 942, 1032]\n",
    "sx=0.0\n",
    "ssx=0.0\n",
    "sy=0.0\n",
    "sxy=0.0\n",
    "n= len(x)\n",
    "for i in range(n):\n",
    "    ssx=ssx+x[i]**2\n",
    "    sx=sx+x[i]\n",
    "    sxy=sxy+(x[i]*y[i])\n",
    "    sy=sy+y[i]\n",
    "\n",
    "    \n",
    "\n",
    "# defining symbols used in equations\n",
    "# or unknown variables\n",
    "a, b = symbols('a,b')\n",
    "\n",
    "# defining equations\n",
    "eq1 = Eq((a*ssx+b*sx), sxy)\n",
    "print(\"Equation 1:\")\n",
    "print(eq1)\n",
    "eq2 = Eq((a*sx+b*n), sy)\n",
    "print(\"Equation 2\")\n",
    "print(eq2)\n",
    "\n",
    "# solving the equation\n",
    "print(\"Values of 2 unknown variable are as follows:\")\n",
    "\n",
    "# sympy.solve returns a dict R i\n",
    "R = solve((eq1, eq2), (a, b))\n",
    "print(R)\n",
    "#print(type(a),type(b))\n",
    "R60= R[a] * 60.0 + R[b]\n",
    "print(f\"R60=  {R60}\")\n",
    "    "
   ]
  },
  {
   "cell_type": "code",
   "execution_count": null,
   "id": "f022e629",
   "metadata": {},
   "outputs": [],
   "source": []
  }
 ],
 "metadata": {
  "kernelspec": {
   "display_name": "Python 3 (ipykernel)",
   "language": "python",
   "name": "python3"
  },
  "language_info": {
   "codemirror_mode": {
    "name": "ipython",
    "version": 3
   },
   "file_extension": ".py",
   "mimetype": "text/x-python",
   "name": "python",
   "nbconvert_exporter": "python",
   "pygments_lexer": "ipython3",
   "version": "3.10.8"
  }
 },
 "nbformat": 4,
 "nbformat_minor": 5
}
