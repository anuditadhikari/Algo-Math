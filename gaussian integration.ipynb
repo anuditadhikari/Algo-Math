{
 "cells": [
  {
   "cell_type": "code",
   "execution_count": 1,
   "id": "8db5c127",
   "metadata": {},
   "outputs": [
    {
     "name": "stdout",
     "output_type": "stream",
     "text": [
      "Approximate integral: 1.773568875690086\n"
     ]
    }
   ],
   "source": [
    "import math\n",
    "\n",
    "def gaussian_quadrature(func, a, b, n=5):\n",
    "    \"\"\"\n",
    "    Approximate the definite integral of a function using Gaussian quadrature.\n",
    "\n",
    "    Parameters:\n",
    "        func: The function to be integrated.\n",
    "        a: Lower bound of the interval.\n",
    "        b: Upper bound of the interval.\n",
    "        n: Number of nodes and weights (default is 5).\n",
    "\n",
    "    Returns:\n",
    "        The approximate value of the definite integral.\n",
    "    \"\"\"\n",
    "\n",
    "    # Gauss nodes and weights for the interval [-1, 1]\n",
    "    gauss_nodes = [-0.9061798459, -0.5384693101, 0.0, 0.5384693101, 0.9061798459]\n",
    "    gauss_weights = [0.2369268851, 0.4786286705, 0.5688888889, 0.4786286705, 0.2369268851]\n",
    "\n",
    "    integral = 0.0\n",
    "\n",
    "    # Map the nodes and weights to the interval [a, b]\n",
    "    for i in range(n):\n",
    "        x = 0.5 * ((b - a) * gauss_nodes[i] + (b + a))\n",
    "        integral += gauss_weights[i] * func(x)\n",
    "\n",
    "    integral *= 0.5 * (b - a)\n",
    "\n",
    "    return integral\n",
    "\n",
    "# Example usage:\n",
    "def example_function(x):\n",
    "    return math.exp(-x**2)  # Example function: e^(-x^2)\n",
    "\n",
    "lower_bound = -2.0\n",
    "upper_bound = 2.0\n",
    "num_nodes_weights = 5\n",
    "\n",
    "result = gaussian_quadrature(example_function, lower_bound, upper_bound, num_nodes_weights)\n",
    "print(\"Approximate integral:\", result)\n"
   ]
  },
  {
   "cell_type": "code",
   "execution_count": null,
   "id": "8b3afe17",
   "metadata": {},
   "outputs": [],
   "source": []
  }
 ],
 "metadata": {
  "kernelspec": {
   "display_name": "Python 3 (ipykernel)",
   "language": "python",
   "name": "python3"
  },
  "language_info": {
   "codemirror_mode": {
    "name": "ipython",
    "version": 3
   },
   "file_extension": ".py",
   "mimetype": "text/x-python",
   "name": "python",
   "nbconvert_exporter": "python",
   "pygments_lexer": "ipython3",
   "version": "3.10.8"
  }
 },
 "nbformat": 4,
 "nbformat_minor": 5
}
