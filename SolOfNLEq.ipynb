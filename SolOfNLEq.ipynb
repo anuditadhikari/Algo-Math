{
 "cells": [
  {
   "cell_type": "code",
   "execution_count": null,
   "id": "19bb68f0",
   "metadata": {},
   "outputs": [],
   "source": [
    "def f1(x,y):\n",
    "    return (x**2)-(y**2)-4\n",
    "def f2(x,y):\n",
    "    return (x**2)+(y**2)-16\n",
    "def j(x,y):\n",
    "    return 8*x*y\n",
    "\n",
    "x=float(input('enter x: '))\n",
    "y=float(input('enter y: '))\n",
    "n=int(input('Enter the max iteration: '))\n",
    "e=float(input('Enter tolerable error: '))\n",
    "h=(-f1(x,y)*2*y-f2(x,y)*2*y)/j(x,y)\n",
    "print('h : %f',h)\n",
    "step = 1\n",
    "while abs(h)>e:\n",
    "    if j(x,y) == 0.0:\n",
    "        print('Jacobian is 0')\n",
    "        break\n",
    "    h=(-f1(x,y)*2*y-f2(x,y)*2*y)/j(x,y)\n",
    "    k=(-f2(x,y)*2*y+f1(x,y)*2*y)/j(x,y)\n",
    "    x=x+h\n",
    "    y=y+k\n",
    "    step += 1\n",
    "    print(f\"Iteration:{step} root x:{x} y:{y} h:{h} k:{k} f1:{f1(x,y)} f2:{f2(x,y)}\")\n",
    "    \n",
    "    if step>n:\n",
    "        print(\"Not convergent\")\n",
    "        break\n",
    "print(f\"root is x:{x} and y:{y}\")"
   ]
  },
  {
   "cell_type": "code",
   "execution_count": null,
   "id": "2ed9846e",
   "metadata": {},
   "outputs": [],
   "source": []
  },
  {
   "cell_type": "code",
   "execution_count": null,
   "id": "457301fa",
   "metadata": {},
   "outputs": [],
   "source": [
    "def f1(x, y):\n",
    "    return (x**2) - (y**2) - 4\n",
    "\n",
    "\n",
    "def f2(x, y):\n",
    "    return (x**2) + (y**2) - 16\n",
    "\n",
    "\n",
    "def j(x, y):\n",
    "    return 8 * x * y\n",
    "\n",
    "\n",
    "x = float(input(\"enter x: \"))\n",
    "y = float(input(\"enter y: \"))\n",
    "n = int(input(\"Enter the max iteration: \"))\n",
    "e = float(input(\"Enter tolerable error: \"))\n",
    "h = (-f1(x, y) * 2 * y - f2(x, y) * 2 * y) / j(x, y)\n",
    "print(\"h : %f\", h)\n",
    "step = 1\n",
    "while abs(h) > e:\n",
    "    if j(x, y) == 0.0:\n",
    "        print(\"Jacobian is 0\")\n",
    "        break\n",
    "    h = (-f1(x, y) * 2 * y - f2(x, y) * 2 * y) / j(x, y)\n",
    "    k = (-f2(x, y) * 2 * y + f1(x, y) * 2 * y) / j(x, y)\n",
    "    x = x + h\n",
    "    y = y + k\n",
    "    step += 1\n",
    "    print(f\"Iteration:{step} root x:{x} y:{y} h:{h} k:{k} f1:{f1(x,y)} f2:{f2(x,y)}\")\n",
    "\n",
    "    if step > n:\n",
    "        print(\"Not convergent\")\n",
    "        break\n",
    "print(f\"root is x:{x} and y:{y}\")\n"
   ]
  },
  {
   "cell_type": "code",
   "execution_count": null,
   "id": "cda08018",
   "metadata": {},
   "outputs": [],
   "source": [
    "def f1(x, y):\n",
    "    return (x**2) - (y**2) - 4\n",
    "\n",
    "\n",
    "def f2(x, y):\n",
    "    return (x**2) + (y**2) - 16\n",
    "\n",
    "\n",
    "def j(x, y):\n",
    "    return 8 * x * y\n",
    "\n",
    "\n",
    "x = float(input(\"enter x: \"))\n",
    "y = float(input(\"enter y: \"))\n",
    "n = int(input(\"Enter the max iteration: \"))\n",
    "e = float(input(\"Enter tolerable error: \"))\n",
    "h = (-f1(x, y) * 2 * y - f2(x, y) * 2 * y) / j(x, y)\n",
    "print(\"h : %f\", h)\n",
    "step = 1\n",
    "while abs(h) > e:\n",
    "    if j(x, y) == 0.0:\n",
    "        print(\"Jacobian is 0\")\n",
    "        break\n",
    "    h = (-f1(x, y) * 2 * y - f2(x, y) * 2 * y) / j(x, y)\n",
    "    k = (-f2(x, y) * 2 * y + f1(x, y) * 2 * y) / j(x, y)\n",
    "    x = x + h\n",
    "    y = y + k\n",
    "    step += 1\n",
    "    print(f\"Iteration:{step} root x:{x} y:{y} h:{h} k:{k} f1:{f1(x,y)} f2:{f2(x,y)}\")\n",
    "\n",
    "    if step > n:\n",
    "        print(\"Not convergent\")\n",
    "        break\n",
    "print(f\"root is x:{x} and y:{y}\")\n"
   ]
  },
  {
   "cell_type": "code",
   "execution_count": null,
   "id": "cabb33ec",
   "metadata": {},
   "outputs": [],
   "source": []
  },
  {
   "cell_type": "code",
   "execution_count": null,
   "id": "89ee9651",
   "metadata": {},
   "outputs": [],
   "source": []
  },
  {
   "cell_type": "code",
   "execution_count": null,
   "id": "6c862e0a",
   "metadata": {},
   "outputs": [],
   "source": []
  },
  {
   "cell_type": "code",
   "execution_count": null,
   "id": "3e64a710",
   "metadata": {},
   "outputs": [],
   "source": []
  },
  {
   "cell_type": "code",
   "execution_count": null,
   "id": "408bf82b",
   "metadata": {},
   "outputs": [],
   "source": []
  },
  {
   "cell_type": "code",
   "execution_count": null,
   "id": "57302d52",
   "metadata": {},
   "outputs": [],
   "source": []
  },
  {
   "cell_type": "code",
   "execution_count": null,
   "id": "caab33ec",
   "metadata": {},
   "outputs": [],
   "source": []
  },
  {
   "cell_type": "code",
   "execution_count": null,
   "id": "b4a7c707",
   "metadata": {},
   "outputs": [],
   "source": []
  },
  {
   "cell_type": "code",
   "execution_count": null,
   "id": "99a67095",
   "metadata": {},
   "outputs": [],
   "source": []
  },
  {
   "cell_type": "code",
   "execution_count": null,
   "id": "d033534a",
   "metadata": {},
   "outputs": [],
   "source": []
  }
 ],
 "metadata": {
  "kernelspec": {
   "display_name": "Python 3 (ipykernel)",
   "language": "python",
   "name": "python3"
  },
  "language_info": {
   "codemirror_mode": {
    "name": "ipython",
    "version": 3
   },
   "file_extension": ".py",
   "mimetype": "text/x-python",
   "name": "python",
   "nbconvert_exporter": "python",
   "pygments_lexer": "ipython3",
   "version": "3.10.8"
  }
 },
 "nbformat": 4,
 "nbformat_minor": 5
}
