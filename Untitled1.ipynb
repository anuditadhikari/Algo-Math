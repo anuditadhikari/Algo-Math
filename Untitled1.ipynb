{
 "cells": [
  {
   "cell_type": "code",
   "execution_count": null,
   "id": "0c380383",
   "metadata": {},
   "outputs": [],
   "source": [
    "import numpy as np\n",
    "import matplotlib.pyplot as plt\n",
    "\n",
    "# x0=0.0, N=300\n",
    "# Input Selection\n",
    "x0 = float(input(\"Enter the initial guess: \"))\n",
    "N = int(input(\"Maximum Step: \"))\n",
    "\n",
    "for x in range(0, N, 1):\n",
    "    x1 = (pow(x0,3)-3*pow(x0,2)+1)\n",
    "    x2 = (3*pow(x0,2)-6*x0)\n",
    "    x3 = (6*x0 - 6)\n",
    "    \n",
    "    plt.plot(x0, x1)\n"
   ]
  }
 ],
 "metadata": {
  "kernelspec": {
   "display_name": "Python 3 (ipykernel)",
   "language": "python",
   "name": "python3"
  },
  "language_info": {
   "codemirror_mode": {
    "name": "ipython",
    "version": 3
   },
   "file_extension": ".py",
   "mimetype": "text/x-python",
   "name": "python",
   "nbconvert_exporter": "python",
   "pygments_lexer": "ipython3",
   "version": "3.10.8"
  }
 },
 "nbformat": 4,
 "nbformat_minor": 5
}
