{
 "cells": [
  {
   "cell_type": "code",
   "execution_count": 1,
   "id": "fa0f7552",
   "metadata": {},
   "outputs": [
    {
     "name": "stdout",
     "output_type": "stream",
     "text": [
      "Coplanar\n"
     ]
    }
   ],
   "source": [
    "# Python program to check if 4 points\n",
    "# in a 3-D plane are Coplanar\n",
    " \n",
    "# Function to find equation of plane.\n",
    "def equation_plane(x1, y1, z1, x2, y2, z2, x3,\n",
    "                                y3, z3, x, y, z):\n",
    "     \n",
    "    a1 = x2 - x1\n",
    "    b1 = y2 - y1\n",
    "    c1 = z2 - z1\n",
    "    a2 = x3 - x1\n",
    "    b2 = y3 - y1\n",
    "    c2 = z3 - z1\n",
    "    a = b1 * c2 - b2 * c1\n",
    "    b = a2 * c1 - a1 * c2\n",
    "    c = a1 * b2 - b1 * a2\n",
    "    d = (- a * x1 - b * y1 - c * z1)\n",
    "     \n",
    "    # equation of plane is: a*x + b*y + c*z = 0 #\n",
    "     \n",
    "    # checking if the 4th point satisfies\n",
    "    # the above equation\n",
    "    if(a * x + b * y + c * z + d == 0):\n",
    "        print(\"Coplanar\")\n",
    "    else:\n",
    "        print(\"Not Coplanar\")\n",
    "     \n",
    "     \n",
    "# Driver Code\n",
    "x1 = 1\n",
    "y1 = 7\n",
    "z1 = 1\n",
    "x2 = 9\n",
    "y2 = 7\n",
    "z2 = 2\n",
    "x3 = 9\n",
    "y3 = 1\n",
    "z3 = 2\n",
    "x4 = 1\n",
    "y4 = 1\n",
    "z4 = 1\n",
    "equation_plane(x1, y1, z1, x2, y2, z2, x3,\n",
    "                            y3, z3, x4, y4, z4)"
   ]
  },
  {
   "cell_type": "code",
   "execution_count": null,
   "id": "cca43149",
   "metadata": {},
   "outputs": [],
   "source": []
  }
 ],
 "metadata": {
  "kernelspec": {
   "display_name": "Python 3 (ipykernel)",
   "language": "python",
   "name": "python3"
  },
  "language_info": {
   "codemirror_mode": {
    "name": "ipython",
    "version": 3
   },
   "file_extension": ".py",
   "mimetype": "text/x-python",
   "name": "python",
   "nbconvert_exporter": "python",
   "pygments_lexer": "ipython3",
   "version": "3.10.8"
  }
 },
 "nbformat": 4,
 "nbformat_minor": 5
}
