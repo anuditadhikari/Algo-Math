{
 "cells": [
  {
   "cell_type": "code",
   "execution_count": 1,
   "id": "668a7067",
   "metadata": {},
   "outputs": [
    {
     "name": "stdout",
     "output_type": "stream",
     "text": [
      "The derivative at x = 2.5 is approximately -27.0921\n"
     ]
    }
   ],
   "source": [
    "import numpy as np\n",
    "\n",
    "def newton_gregory_backward(x, y, target_x):\n",
    "    n = len(x) - 1\n",
    "    h = x[1] - x[0]\n",
    "    \n",
    "    backward_diff_table = np.zeros((n + 1, n + 1))\n",
    "    backward_diff_table[:, 0] = y\n",
    "    \n",
    "    for j in range(1, n + 1):\n",
    "        for i in range(j, n + 1):\n",
    "            backward_diff_table[i][j] = backward_diff_table[i][j - 1] - backward_diff_table[i - 1][j - 1]\n",
    "    \n",
    "    derivative = 0.0\n",
    "    u = (target_x - x[-1]) / h\n",
    "    factorial = 1.0\n",
    "    for i in range(1, n + 1):\n",
    "        derivative += (backward_diff_table[n][i] * factorial) / ((-h ** i) * i)\n",
    "        factorial *= (u + i)\n",
    "    \n",
    "    return derivative\n",
    "\n",
    "# Example usage\n",
    "x = [0.0, 1.0, 2.0, 3.0, 4.0]\n",
    "y = [1.0, 2.7183, 7.3891, 20.0855, 54.5981]\n",
    "target_x = 2.5\n",
    "\n",
    "derivative = newton_gregory_backward(x, y, target_x)\n",
    "print(f\"The derivative at x = {target_x} is approximately {derivative:.4f}\")\n"
   ]
  },
  {
   "cell_type": "code",
   "execution_count": null,
   "id": "5e0782bf",
   "metadata": {},
   "outputs": [],
   "source": []
  }
 ],
 "metadata": {
  "kernelspec": {
   "display_name": "Python 3 (ipykernel)",
   "language": "python",
   "name": "python3"
  },
  "language_info": {
   "codemirror_mode": {
    "name": "ipython",
    "version": 3
   },
   "file_extension": ".py",
   "mimetype": "text/x-python",
   "name": "python",
   "nbconvert_exporter": "python",
   "pygments_lexer": "ipython3",
   "version": "3.10.8"
  }
 },
 "nbformat": 4,
 "nbformat_minor": 5
}
